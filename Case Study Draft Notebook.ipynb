{
 "cells": [
  {
   "cell_type": "markdown",
   "id": "bf61ead2",
   "metadata": {},
   "source": [
    "## Problem Formulation\n"
   ]
  },
  {
   "cell_type": "markdown",
   "id": "0310fa74",
   "metadata": {},
   "source": [
    "*Decision variables*\n",
    "- amount of each type of yarn produced by each supplier\n",
    "- are all decision variables continuous? \n",
    "-- yes? because if you choose to not produce a certain type of yarn at one factory or something you just put 0kg/month for production\n",
    "\n",
    "$$\n",
    "X_{1A} = \\text{amount of extra fine yarn to be produced by Ambrosi (kg)}\\\\\n",
    "X_{2A} = \\text{amount of fine yarn to be produced by Ambrosi (kg)}\\\\\n",
    "X_{3A} = \\text{amount of medium yarn to be produced by Ambrosi (kg)}\\\\\n",
    "X_{4A} = \\text{amount of coarse yarn to be produced by Ambrosi (kg)}\\\\\n",
    "\\\\\n",
    "X_{1B} = \\text{amount of extra fine yarn to be produced by Bresciani (kg)}\\\\\n",
    "X_{2B} = \\text{amount of fine yarn to be produced by Bresciani (kg)}\\\\\n",
    "X_{3B} = \\text{amount of medium yarn to be produced by Bresciani (kg)}\\\\\n",
    "X_{4B} = \\text{amount of coarse yarn to be produced by Bresciani (kg)}\\\\\n",
    "X_{1C} = \\text{amount of extra fine yarn to be produced by Castri (kg)}\\\\\n",
    "X_{2C} = \\text{amount of fine yarn to be produced by Castri (kg)}\\\\\n",
    "X_{3C} = \\text{amount of medium yarn to be produced by Castri (kg)}\\\\\n",
    "X_{4C} = \\text{amount of coarse yarn to be produced by Castri (kg)}\\\\\n",
    "X_{1D} = \\text{amount of extra fine yarn to be produced by De Blasi (kg)}\\\\\n",
    "X_{2D} = \\text{amount of fine yarn to be produced by De Blasi (kg)}\\\\\n",
    "X_{3D} = \\text{amount of medium yarn to be produced by De Blasi (kg)}\\\\\n",
    "X_{4D} = \\text{amount of coarse yarn to be produced by De Blasi (kg)}\\\\\n",
    "X_{1E} = \\text{amount of extra fine yarn to be produced by Estensi (kg)}\\\\\n",
    "X_{2E} = \\text{amount of fine yarn to be produced by Estensi (kg)}\\\\\n",
    "X_{3E} = \\text{amount of medium yarn to be produced by Estensi (kg)} \\\\\n",
    "X_{4E} = \\text{amount of coarse yarn to be produced by Estensi (kg)}\\\\\n",
    "X_{1F} = \\text{amount of extra fine yarn to be produced by Filatoi Riuniti (kg)}\\\\\n",
    "X_{2F} = \\text{amount of fine yarn to be produced by Filatoi Riuniti (kg)}\\\\\n",
    "X_{3F} = \\text{amount of medium yarn to be produced by Filatoi Riuniti (kg)}\\\\\n",
    "X_{4F} = \\text{amount of coarse yarn to be produced by Filatoi Riuniti (kg)}\\\\\n",
    "X_{1G} = \\text{amount of extra fine yarn to be produced by Giuliani (kg)}\\\\\n",
    "X_{2G} = \\text{amount of fine yarn to be produced by Giuliani (kg)}\\\\\n",
    "X_{3G} = \\text{amount of medium yarn to be produced by Giuliani (kg)}\\\\\n",
    "X_{4G} = \\text{amount of coarse yarn to be produced by Giuliani (kg)}\\\\\n",
    "$$"
   ]
  },
  {
   "cell_type": "markdown",
   "id": "ac2146ed",
   "metadata": {},
   "source": [
    "*Objective function*\n",
    "\n",
    "We want to minimize:\n",
    "- machine hours required for production\n",
    "- cost of production\n",
    "- cost of transportation \n",
    "\n",
    "$$\\text{Minimize Machine Hours for Production + Costs of Production + Cost of Transportation}$$\n",
    "\n",
    "$$\\text{Minimize } 0.4X_{2A} + 0.375X_{3A}+0.25X_{4A}+0.7X_{1B}+0.5X_{2B}+0.35X_{3B}+0.25X_{4B}+0.675X_{1C}+0.45X_{2C}+0.4X_{3C}+0.25X_{4C}+0.45X_{2D}+0.35X_{3D}+0.2X_{4D}+0.650X_{1E}+0.45X_{2E}+0.4X_{3E}+0.25X_{4E}+0.625X_{1F}+0.5X_{2F}+0.425X_{3F}+0.425X_{4F}+0.70X_{1G}+0.45X_{2G}+0.35X_{3G}+0.4X_{4G} + 13X_{2A} + 10.65X_{3A}+9.6X_{4A}+17.40X_{1B}+14.10X_{2B}+11.20X_{3B}+9.45X_{4B}+17.40X_{1C}+14.22X_{2C}+11X_{3C}+9.50X_{4C}+14.30X_{2D}+11.25X_{3D}+9.60X_{4D}+17.50X_{1E}+13.80X_{2E}+11.40X_{3E}+9.60X_{4E}+18.25X_{1F}+13.90X_{2F}+11.40X_{3F}+8.90X_{4F}+19.75X_{1G}+13.90X_{2G}+10.75X_{3G}+9.40X_{4G}+0.3X_{1A}+0.3X_{2A} + 0.45X_{3A}+0.45X_{4A}+0.4X_{1B}+0.4X_{2B}+0.6X_{3B}+0.6X_{4B}+0.80X_{1C}+0.8X_{2C}+1.20X_{3C}+1.20X_{4C}+0.70X_{1D}+0.70X_{2D}+1.05X_{3D}+1.05X_{4D}+0.7X_{1E}+0.7X_{2E}+1.05X_{3E}+1.05X_{4E}+0.5X_{1G}+0.5X_{2G}+0.75X_{3G}+0.75X_{4G}$$\n",
    "\n"
   ]
  },
  {
   "cell_type": "markdown",
   "id": "ec671774",
   "metadata": {},
   "source": [
    "*Constraints*\n",
    "\n",
    "Objective function is subject to:\n",
    "\n",
    "\\begin{align*}\n",
    "0.4X_{2A} + 0.375X_{3A} + 0.25X_{4A} &<= 2500 \\text{ hours}\\\\\n",
    "0.7X_{1B}+0.5X_{2B}+0.35X_{3B}+0.25X_{4B}&<= 3000 \\text{ hours}\\\\\n",
    "0.675X_{1C}+0.45X_{2C}+0.4X_{3C}+0.25X_{4C}&<= 2500 \\text{ hours}\\\\\n",
    "0.45X_{2D}+0.35X_{3D}+0.2X_{4D}&<= 2600 \\text{ hours}\\\\\n",
    "0.650X_{1E}+0.45X_{2E}+0.4X_{3E}+0.25X_{4E}&<= 2500 \\text{ hours}\\\\\n",
    "0.625X_{1F}+0.5X_{2F}+0.425X_{3F}+0.425X_{4F}&<= 38000 \\text{ hours}\\\\\n",
    "0.7X_{1G}+0.45X_{2G}+0.35X_{3G}+0.4X_{4G}&<= 2500 \\text{ hours}\\\\\n",
    "\\sum X_{1j} &\\leq 25000 \\text{ kg/month}, j=\\text{A,...,G}\\\\\n",
    "\\sum X_{2j} &\\leq 26000 \\text{ kg/month}, j=\\text{A,...,G}\\\\\n",
    "\\sum X_{3j} &\\leq 28000 \\text{ kg/month}, j=\\text{A,...,G}\\\\\n",
    "\\sum X_{4j} &\\leq 28000 \\text{ kg/month}, j=\\text{A,...,G}\\\\\n",
    "X_{ij} &\\geq0 \\text{ for } i=1,...,4, j=\\text{A,...,G}\n",
    "\\end{align*}\n",
    "\n"
   ]
  },
  {
   "cell_type": "code",
   "execution_count": 10,
   "id": "5be80d5e",
   "metadata": {},
   "outputs": [
    {
     "name": "stdout",
     "output_type": "stream",
     "text": [
      "Gurobi Optimizer version 9.5.2 build v9.5.2rc0 (mac64[rosetta2])\n",
      "Thread count: 8 physical cores, 8 logical processors, using up to 8 threads\n",
      "Optimize a model with 11 rows, 28 columns and 54 nonzeros\n",
      "Model fingerprint: 0xbed677da\n",
      "Coefficient statistics:\n",
      "  Matrix range     [2e-01, 1e+00]\n",
      "  Objective range  [3e-01, 2e+01]\n",
      "  Bounds range     [0e+00, 0e+00]\n",
      "  RHS range        [2e+03, 4e+04]\n",
      "Presolve removed 11 rows and 28 columns\n",
      "Presolve time: 0.00s\n",
      "Presolve: All rows and columns removed\n",
      "Iteration    Objective       Primal Inf.    Dual Inf.      Time\n",
      "       0    0.0000000e+00   0.000000e+00   0.000000e+00      0s\n",
      "\n",
      "Solved in 0 iterations and 0.01 seconds (0.00 work units)\n",
      "Optimal objective  0.000000000e+00\n"
     ]
    }
   ],
   "source": [
    "# Input the model into Gurobi\n",
    "from gurobi import *\n",
    "\n",
    "# initalize model \n",
    "model = Model(\"Filatoi Riuniti\")\n",
    "V = {}\n",
    "\n",
    "# add variables to model\n",
    "V['X_1A'] = model.addVar()\n",
    "V['X_2A']= model.addVar()\n",
    "V['X_3A']= model.addVar()\n",
    "V['X_4A']= model.addVar()\n",
    "V['X_1B']= model.addVar()\n",
    "V['X_2B']= model.addVar()\n",
    "V['X_3B']= model.addVar()\n",
    "V['X_4B']= model.addVar()\n",
    "V['X_1C']= model.addVar()\n",
    "V['X_2C']= model.addVar()\n",
    "V['X_3C']= model.addVar()\n",
    "V['X_4C']= model.addVar()\n",
    "V['X_1D']= model.addVar()\n",
    "V['X_2D']= model.addVar()\n",
    "V['X_3D']= model.addVar()\n",
    "V['X_4D']= model.addVar()\n",
    "V['X_1E']= model.addVar()\n",
    "V['X_2E']= model.addVar()\n",
    "V['X_3E']= model.addVar()\n",
    "V['X_4E']= model.addVar()\n",
    "V['X_1F']= model.addVar()\n",
    "V['X_2F']= model.addVar()\n",
    "V['X_3F']= model.addVar()\n",
    "V['X_4F']= model.addVar()\n",
    "V['X_1G']= model.addVar()\n",
    "V['X_2G']= model.addVar()\n",
    "V['X_3G']= model.addVar()\n",
    "V['X_4G']= model.addVar()\n",
    "\n",
    "# add constraints\n",
    "C = {}\n",
    "\n",
    "C[0] = model.addConstr(0.4*V['X_2A'] + 0.375 * V['X_3A'] +0.25*V['X_4A'] <= 2500) \n",
    "C[1] =  model.addConstr(0.7*V['X_1B'] + 0.5 *  V['X_2B'] +0.35*V['X_3B'] + 0.25*V['X_4B'] <=3000) \n",
    "C[2] =  model.addConstr(0.675*V['X_1C']+ 0.45 *V['X_2C'] +0.4*V['X_3C']+ 0.25*V['X_4C'] <=2500) \n",
    "C[3] =  model.addConstr(0.45 * V[\"X_2D\"] +0.35*V['X_3D'] + 0.2*V['X_4D'] <=2600) \n",
    "C[4] =  model.addConstr(0.650*V['X_1E']+ 0.45 * V['X_2E'] +0.4*V['X_3E'] + 0.25*V['X_4E'] <=2500) \n",
    "C[5] =  model.addConstr(0.625*V['X_1F']+ 0.5* V['X_2F'] +0.425*V['X_3F'] + 0.425*V['X_4F'] <=38000) \n",
    "C[6] = model.addConstr(0.7*V['X_1G']+ 0.45*V['X_2G'] +0.35*V['X_3G']+0.4*V['X_4G'] <=2500) \n",
    "C[7] =  model.addConstr(V['X_1A']+ V['X_1B']+V['X_1C']+V[\"X_1D\"]+V['X_1E']+V['X_1F']+V['X_1G'] <=25000)\n",
    "C[8] =  model.addConstr(V['X_2A']+ V['X_2B']+V['X_2C']+V[\"X_2D\"]+V['X_2E']+V['X_2F']+V['X_2G'] <=26000)\n",
    "C[9] =  model.addConstr(V['X_3A']+ V['X_3B']+V['X_3C']+V['X_3D']+V['X_3E']+V['X_3F']+V['X_3G'] <=28000)\n",
    "C[10] =  model.addConstr(V['X_4A']+ V['X_4B']+V['X_4C']+V['X_4D']+V['X_4E']+V['X_4F']+V['X_4G'] <=28000)\n",
    "\n",
    "# add objective function\n",
    "model.setObjective(0.31*V['X_1A']+13.7*V['X_2A']+11.475*V['X_3A']+10.3*V['X_4A']\n",
    "                   +18.5*V['X_1B']+15*V['X_2B']+12.15*V['X_3B']+10.3*V['X_4B']+\n",
    "                   18.875*V['X_1C']+15.47*V['X_2C']+12.6*V['X_3C']+10.95*V['X_4C']\n",
    "                   +0.7*V[\"X_1D\"]+15.45*V[\"X_2D\"]+12.65*V['X_3D']+10.85*V['X_4D']+\n",
    "                   18.85*V['X_1E']+14.95*V['X_2E']+12.85*V['X_3E']+10.9*V['X_4E']+\n",
    "                   18.875*V['X_1F']+14.4*V['X_2F']+11.825*V['X_3F']+9.325*V['X_4F']+\n",
    "                   20.95*V['X_1G']+14.85*V['X_2G']+11.85*V['X_3G']+10.55*V['X_4G'], GRB.MINIMIZE)\n",
    "\n",
    "model.optimize()\n"
   ]
  },
  {
   "cell_type": "code",
   "execution_count": 11,
   "id": "7d6edb4b",
   "metadata": {},
   "outputs": [
    {
     "data": {
      "text/plain": [
       "0.0"
      ]
     },
     "execution_count": 11,
     "metadata": {},
     "output_type": "execute_result"
    }
   ],
   "source": [
    "model.objVal"
   ]
  },
  {
   "cell_type": "code",
   "execution_count": 12,
   "id": "5bc221e8",
   "metadata": {},
   "outputs": [
    {
     "name": "stdout",
     "output_type": "stream",
     "text": [
      "optimal value of  X_1A  is  0.0\n",
      "optimal value of  X_2A  is  0.0\n",
      "optimal value of  X_3A  is  0.0\n",
      "optimal value of  X_4A  is  0.0\n",
      "optimal value of  X_1B  is  0.0\n",
      "optimal value of  X_2B  is  0.0\n",
      "optimal value of  X_3B  is  0.0\n",
      "optimal value of  X_4B  is  0.0\n",
      "optimal value of  X_1C  is  0.0\n",
      "optimal value of  X_2C  is  0.0\n",
      "optimal value of  X_3C  is  0.0\n",
      "optimal value of  X_4C  is  0.0\n",
      "optimal value of  X_1D  is  0.0\n",
      "optimal value of  X_2D  is  0.0\n",
      "optimal value of  X_3D  is  0.0\n",
      "optimal value of  X_4D  is  0.0\n",
      "optimal value of  X_1E  is  0.0\n",
      "optimal value of  X_2E  is  0.0\n",
      "optimal value of  X_3E  is  0.0\n",
      "optimal value of  X_4E  is  0.0\n",
      "optimal value of  X_1F  is  0.0\n",
      "optimal value of  X_2F  is  0.0\n",
      "optimal value of  X_3F  is  0.0\n",
      "optimal value of  X_4F  is  0.0\n",
      "optimal value of  X_1G  is  0.0\n",
      "optimal value of  X_2G  is  0.0\n",
      "optimal value of  X_3G  is  0.0\n",
      "optimal value of  X_4G  is  0.0\n"
     ]
    }
   ],
   "source": [
    "for key in V:\n",
    "    print('optimal value of ', key, ' is ', V[key].X)"
   ]
  },
  {
   "cell_type": "code",
   "execution_count": 13,
   "id": "fd8d30b8",
   "metadata": {},
   "outputs": [
    {
     "name": "stdout",
     "output_type": "stream",
     "text": [
      "shadow price of constraint  0  is  0.0\n",
      "shadow price of constraint  1  is  0.0\n",
      "shadow price of constraint  2  is  0.0\n",
      "shadow price of constraint  3  is  0.0\n",
      "shadow price of constraint  4  is  0.0\n",
      "shadow price of constraint  5  is  0.0\n",
      "shadow price of constraint  6  is  0.0\n",
      "shadow price of constraint  7  is  0.0\n",
      "shadow price of constraint  8  is  0.0\n",
      "shadow price of constraint  9  is  0.0\n",
      "shadow price of constraint  10  is  0.0\n"
     ]
    }
   ],
   "source": [
    "# print shadow prices of constraints\n",
    "for key in C:\n",
    "    print('shadow price of constraint ', key, ' is ', C[key].Pi)"
   ]
  },
  {
   "cell_type": "code",
   "execution_count": null,
   "id": "5a5dac2c",
   "metadata": {},
   "outputs": [],
   "source": []
  },
  {
   "cell_type": "code",
   "execution_count": null,
   "id": "6246bec8",
   "metadata": {},
   "outputs": [],
   "source": [
    "# Allowable increase + decrease range\n",
    "#C.SARHSLow (lower bound of where SP is valid)\n",
    "#C.SARHSUp"
   ]
  }
 ],
 "metadata": {
  "kernelspec": {
   "display_name": "Python 3 (ipykernel)",
   "language": "python",
   "name": "python3"
  },
  "language_info": {
   "codemirror_mode": {
    "name": "ipython",
    "version": 3
   },
   "file_extension": ".py",
   "mimetype": "text/x-python",
   "name": "python",
   "nbconvert_exporter": "python",
   "pygments_lexer": "ipython3",
   "version": "3.9.12"
  }
 },
 "nbformat": 4,
 "nbformat_minor": 5
}
